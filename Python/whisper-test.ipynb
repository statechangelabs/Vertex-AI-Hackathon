{
 "cells": [
  {
   "cell_type": "code",
   "execution_count": 2,
   "metadata": {},
   "outputs": [
    {
     "name": "stdout",
     "output_type": "stream",
     "text": [
      "Type of Transcript:  <class 'openai.openai_object.OpenAIObject'>\n",
      "{\n",
      "  \"text\": \"James, should we get into your stuff, sir? Yes, sir. So let me share my screen. I'm doing, I think I'm doing things correctly here. So first of all, I need to update our record inside a table. So I'm getting the data from emotion here. This is just some data that I'm getting. So what I'm doing is here is I'm getting, first of all, querying all of the records from these specific table. And if I have this conditional, if title equals the same text that is coming from the input, I'm going to give it a value to this. And it's working fine. If I run this right now, let's copy this. It's working just fine. And the last thing is, but it should be pretty easy, but I have no idea how to do it, it's working fine as I want to, is how to edit the record. How can I add this ID into, into a rate of IDs inside this table? Yeah. So, okay. So you're, you have an array of array of reasons or something that you're looking to, exactly. I go to the database here so you can see it. Oh no, it's a two step process. The edit is going to replace whatever's in that list. It doesn't mutate that list. Okay. So what you need to do. So the best, the SQL way of doing that is first you pull the record and then you edit it. So directly before your edit record, you do a get record. Okay. Data manipulation. Oh, I'm sorry. Excuse me. Database request, not data manipulation, whatever. No, I believe what you meant to do is pull from user. Oh yeah, you're right. And this will be based on whoever the user is. Yep. User.id. So we can target them with CSS whenever they're inside of a section that is dark. Hey David, could you mute? Sorry. If it is dark class, we're going to create a space and we're going to look for an element inside it. I got it. So I'm getting the record. So you got the record and now that's user three. So now we can go into, so what you want to do is basically add another item to that record, right? Yeah. Okay. Let's go into the edit record. Don't delete. You're doing fine. We'll go back in and scrolling down to that. The user's thing is, yeah, let's scroll down to where we're going to be editing the, the, the list. Cool. So here's the fun part. See where it says text over on the right. Yep. It's going to be user three. User three. User three, the variable. Yep. Reasons for reasons not following strategy. Yeah. Reasons not following strategy. The same fact, the same field, because that's what this field is called. Oh yeah. You're right. Reasons not following strategy. You're right. You're going to do, you're saying, give me the old version of that. And then, and then we're going to add a filter to it. Yeah. And then push, right? That's it. You can push. Okay, cool. Cool. So basically you're saying if before it contained A and B, now you want to contain A, B, and C. I get it. From the point of view, the edit query, all it cares about is what the new list is supposed to be. You're thinking of it in terms of adding to the list, which I get, but the database isn't that smart. So what you're doing is instead of telling the list, telling the database to mutate the list, you're getting the old value, making the change and saying, here's the new value of the mutated list. Please put that in. You're completely right. That's perfect. So that's awesome. So I just need to know what is the dot notation for, okay. Title. Okay, cool. Title. Yeah. Title. Okay. Edit record here. Push bar, reasons, title. Is it dot title? This is a disadvantageous idea, I think. Oh, no, that's fine. I need to add this record. It should work fine. I'm not sure, sir, because if you click on it, click on the edit record on the user to one, yeah, scroll down. Oh yeah. You're a hundred percent. It's an ID. You're a hundred percent ID. Yeah, you're a hundred percent. Sorry. Sorry. You didn't save at all. Update. Yeah. All those things go together. Yeah, you're right. All right, cool. Perfect. So this should work. If I go to my, here to my API, I don't know what data is coming from that, but it should make a change, trade your now let's run and debug here. Okay, cool. So I go to the database trades. No, it's the user table. What I'm doing. Yeah, probably it's the same ID. So yeah, don't worry. It should be working fine, but I know how to, right now, finally, I know how to edit an array and push the record again, add another record to it. So that's awesome. I have another small question. I don't know if we could take care of that one too. Yeah, sure. We do that one in short order and yeah, you're certainly generous with the way we began. So if there's another way we can help, let's do that. Okay. So I have a list of questions here, but here is perfect. Get number of reasons from, of the array inside users. I don't know why this is not working, but yeah, so this is something pretty simple. I don't know what am I doing wrong here? If I go to API calls, default, I need to get the user, get that. Okay, cool. Here, if I go to output, so I want to get the amount of reasons not following a strategy a user has. You want to know the length of the array called reasons not following strategy ID. Yep. I want the amount of items. Sure. Well, I was trying. Sorry, go on. No, no. I was trying to set it up, but I don't know. I was trying to do something outside from here, but yep. That's how I do it. Click on that. Let's go to a data manipulation. We're going to do update variable. And the existing variable is user.reason count. The value is going to be user. What's the name of that variable reason for strategy. It's long. Yeah. Reasons not following strategy ID. Okay. Yeah. I don't know. I should get into, I should, there must be like a, how to class or how to give names to variables, that thing. Okay. Reason not following strategy ID. Okay. I should have changed that name. Okay. Safe. Yep. And no, we're not done yet. Yeah, I know. And give me a filter. Count. Count. Okay. Update. So this tells you, so this will give, this will put in reason count. The length of the array. Let's do a run debug and test it out. Perfect. Thank you, sir. That's it. Awesome. Cool. Yeah. Okay. James, you had one more queue before we ran out of time here. Yeah. It's a real small one as well. Hopefully. So am I sharing the small screen? Yes. Am I sharing the small screen? This one? Oh, you're sharing a screen, showing actually a huge screen. Very wide screen. Okay. No. Okay. That's fine. I think if you can see things that's fine. Barely. Sure. We'll go for it. Okay. I have this API call. Let me show you. That is past bookings. Let me show that as well, the front end. So I have upcoming bookings and past bookings. This is just going to be a trigger from the date. If the date is less than now, it's going to show in past bookings. And if it's more than now, the time that we have right now, like the now thing inside Sano, it should show the upcoming, like these other bookings. So I have, first of all, this function right here, get past bookings. I'm querying all records from bookings. Oh, that's all of them. Yeah. Yes. And as well, the problem is that date, the date is coming from another table that it's coming from availabilities. So if I run this, let's run, let's select a user test that like peak. Oh, missing variable past bookings. What? Oh, here. Okay. So I'm getting the dates here, start date and end date. So the way that I just want to show here, I just, I probably want to use a filter that just gets the elements, the half a date where the start date is less than now. How can I filter that? Like I should definitely create a data variable probably. And, okay. So you right now are pulling all your bookings and all the availabilities. The availabilities that are connected, that are connected. Yeah. Yeah. I will say the dates. Why not just filter it? I don't, it's actually not at all clear to me why the dates involved are so at variance with the arrival and departure date times. Why do we have the dates? Yes. So if I go to my connections right now, probably this is something that I should take care of first, the way that this is working. So I have availability of this, where we have an ID of a property. And this is going to be connected to a booking ID. Yeah. And you have a start date and end date, because this is going to be a full week or a half week. Got it. So the problem is right now I'm getting the bookings, right? If I go to the database of the table of bookings, where is it? If I go to bookings as well, I have, this is another, this is, this data is different. This is coming from the user, but yeah, I have a booking here and I just want to get the bookings that are, the good thing is this is going to be a relationship one-to-one with the, if I go to availabilities, this should be, if I go to the reference, it's a single one. So it's just going to be a relationship between one-to-one. All the bookings. Why wouldn't you just get it from availabilities? Yeah, that's right. So get a list of, so the way I'd look at it, say, let's get a list of all the availabilities where isbooked is true, and then use the add-on to get the related information about the booking that goes with each availability. Yeah, you're right. It gives you all the same information of a little more straightforwardly relative to your filter ability. Yeah, I think I can do that. So definitely, definitely I can, I don't want to do it now because it's going to take me a little bit of time. I think we're running out of time right now, but yeah, I definitely going to change the thing that I'm doing, the way that I'm doing the things here. Yeah. Yeah. A good way to think about it is the thing you want to filter on should be the primary table, even if you're more interested about the information from the other table. You're right. Perfect. Definitely a good way to, definitely it's a good advice to keep building this huge project right now. So yeah, I should always, my primary table should always be the one that I want to filter the data through like the specific, okay, cool. That's also going to be where your biggest performance considerations are going to be how you do filters when you're not just looking directly by ID. The, the secondary lookup into booking will be very fast because it's always going to be on the primary key of the table, which is going to be, it knows how to look those things up immediately. It's like it already knows page number. But the other one is where both performance can happen. Also where complexity can happen. And that's the reason why sequencing like that will be to your advantage. Cool. We covered a lot of very complicated topics. Some of them ran down, some of them still a bit in the air, but we will continue to make progress and we'll be doing this again tomorrow. It was an absolute pleasure talking to you gentlemen today. Thank you guys. Yeah, thank you. Thank you. Right.\"\n",
      "}\n"
     ]
    }
   ],
   "source": [
    "import openai\n",
    "\n",
    "openai.api_key = \"api-key\"\n",
    "f = open(\"./debugging.mp3\", \"rb\")\n",
    "transcript = openai.Audio.transcribe(\"whisper-1\", f, response_format= \"json\")\n",
    "\n",
    "print(\"Type of Transcript: \",type(transcript))\n",
    "print(transcript)\n",
    "# with open('transcript.json', 'w') as outfile:\n",
    "#     outfile.write(transcript)\n"
   ]
  },
  {
   "cell_type": "code",
   "execution_count": 4,
   "metadata": {},
   "outputs": [],
   "source": [
    "import json\n",
    "\n",
    "with open('transcript.json', 'w') as outfile:\n",
    "    outfile.write(json.dumps(transcript))"
   ]
  }
 ],
 "metadata": {
  "kernelspec": {
   "display_name": "Python 3",
   "language": "python",
   "name": "python3"
  },
  "language_info": {
   "codemirror_mode": {
    "name": "ipython",
    "version": 3
   },
   "file_extension": ".py",
   "mimetype": "text/x-python",
   "name": "python",
   "nbconvert_exporter": "python",
   "pygments_lexer": "ipython3",
   "version": "3.11.4"
  },
  "orig_nbformat": 4
 },
 "nbformat": 4,
 "nbformat_minor": 2
}
